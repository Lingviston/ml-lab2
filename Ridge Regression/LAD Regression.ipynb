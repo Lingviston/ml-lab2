{
 "cells": [
  {
   "cell_type": "code",
   "execution_count": 25,
   "metadata": {},
   "outputs": [
    {
     "name": "stdout",
     "output_type": "stream",
     "text": [
      "Optimization terminated successfully.\n",
      "         Current function value: 208.953912  \n",
      "         Iterations: 138\n",
      "Weights:\n",
      " [ -2.83245223e+00   1.05564300e-02   3.07481879e+01   1.76187408e+01]\n",
      "Approximate solution:\n",
      " [  8.54501445  11.47330651  11.30706286   8.6         12.28295085\n",
      "  11.24258929  12.66690717  10.85504161  10.72443237  12.53401171\n",
      "  10.04351411  11.53864838   8.1         11.49006792  11.55342856\n",
      "  14.03256986  13.77975753   3.97684065  10.15687145  10.5          8.89213346\n",
      "   8.4603416    2.99351803   9.20675361  11.925672    10.77536508\n",
      "  11.91753771   8.33719612   9.94485897  12.27103568  13.87710405\n",
      "   9.4553227   12.26904263   8.4603416    9.54156888  12.24862152  13.6\n",
      "  12.25309555   6.00471451   5.36921069   8.20411419   6.32895091\n",
      "  12.52148615  13.82168927  10.52106879  10.21767998  14.77604725\n",
      "   8.98206128   8.91304465  13.9034563   12.55372344  10.28588545\n",
      "   9.9930349    9.436993  ]\n"
     ]
    }
   ],
   "source": [
    "import csv\n",
    "from scipy.optimize import linprog as lp\n",
    "import numpy as np\n",
    "\n",
    "\n",
    "def read_data(file_path):\n",
    "    matrix = list()\n",
    "    vector = list()\n",
    "    with open(file_path, newline='') as file:\n",
    "        reader = csv.reader(file, delimiter=',', quotechar='|')\n",
    "        next(reader)\n",
    "        for row in reader:\n",
    "            matrix_row = list()\n",
    "            for i in range(0, 4):\n",
    "                matrix_row.append(float(row[i]))\n",
    "            matrix.append(matrix_row)\n",
    "            vector.append(float(row[4]))\n",
    "    return [matrix, vector]\n",
    "\n",
    "\n",
    "def create_conditions_matrix(matrix):\n",
    "    dimension = len(matrix[0])\n",
    "    size = len(matrix)\n",
    "    \n",
    "    weight_matrix = np.matrix(matrix)\n",
    "    identity_minus = -np.identity(size)\n",
    "    \n",
    "    first_part = np.concatenate((weight_matrix, identity_minus), axis = 1)\n",
    "    second_part = np.concatenate((-weight_matrix, identity_minus), axis = 1)\n",
    "    return np.concatenate((first_part, second_part), axis = 0)\n",
    "\n",
    "\n",
    "def solve_linear(matrix, vector, tolerance):\n",
    "    dimension = len(matrix[0]) # amount of real parameters\n",
    "    size = len(matrix) # amount of fake \"a\" parameters\n",
    "    \n",
    "    # the coefficients of the function to minimize\n",
    "    linear_coefficients = dimension*[0] + size*[1]\n",
    "    \n",
    "    # calculating the list of bounds for coefficients\n",
    "    weight_bounds = (None, None)\n",
    "    a_bounds = (0.0, None)\n",
    "    parameters_bounds = dimension*[weight_bounds] + size*[a_bounds]\n",
    "    \n",
    "    # calculating conditions and their bounds\n",
    "    conditions_bounds = np.concatenate((np.array(vector), -np.array(vector)))\n",
    "    conditions_matrix = create_conditions_matrix(matrix).tolist()\n",
    "    \n",
    "    res = lp(linear_coefficients, A_ub=conditions_matrix, b_ub=conditions_bounds, bounds=parameters_bounds,\n",
    "             options={\"disp\": True, \"bland\": True, \"tol\": tolerance})\n",
    "    return res.x[:dimension] # we're not interested in fake parameters\n",
    "\n",
    "\n",
    "[X, y] = read_data('basketball.csv')\n",
    "solution = solve_linear(X, y, 0.001)\n",
    "\n",
    "print(\"Weights:\\n\", solution)\n",
    "print(\"Approximate solution:\\n\", np.dot(X, solution))"
   ]
  },
  {
   "cell_type": "code",
   "execution_count": null,
   "metadata": {
    "collapsed": true
   },
   "outputs": [],
   "source": []
  }
 ],
 "metadata": {
  "kernelspec": {
   "display_name": "Python 3",
   "language": "python",
   "name": "python3"
  },
  "language_info": {
   "codemirror_mode": {
    "name": "ipython",
    "version": 3
   },
   "file_extension": ".py",
   "mimetype": "text/x-python",
   "name": "python",
   "nbconvert_exporter": "python",
   "pygments_lexer": "ipython3",
   "version": "3.6.1"
  }
 },
 "nbformat": 4,
 "nbformat_minor": 2
}
